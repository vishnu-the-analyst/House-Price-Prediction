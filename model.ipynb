{
 "cells": [
  {
   "cell_type": "code",
   "execution_count": 1239,
   "id": "4144a6ad-d9eb-45ee-8b4a-4c58a166015f",
   "metadata": {},
   "outputs": [],
   "source": [
    "import pandas as pd\n",
    "import numpy as np\n",
    "import matplotlib.pyplot as plt\n",
    "import seaborn as sns\n",
    "from sklearn.model_selection import train_test_split\n",
    "from sklearn.linear_model import LinearRegression\n",
    "from sklearn.tree import DecisionTreeRegressor\n",
    "from sklearn.ensemble import RandomForestRegressor, GradientBoostingRegressor\n",
    "from sklearn.metrics import mean_squared_error, mean_absolute_error\n",
    "from sklearn.svm import SVR\n",
    "from sklearn.linear_model import Ridge\n",
    "from sklearn.linear_model import Lasso\n",
    "from sklearn.linear_model import ElasticNet\n",
    "from sklearn.neighbors import KNeighborsRegressor\n",
    "from xgboost import XGBRegressor\n",
    "from lightgbm import LGBMRegressor\n",
    "from catboost import CatBoostRegressor\n",
    "import statsmodels.api as sm\n",
    "import pandas as pd\n",
    "from sklearn.feature_selection import RFECV\n",
    "from sklearn.linear_model import LinearRegression\n",
    "from sklearn.model_selection import train_test_split\n",
    "import matplotlib.pyplot as plt"
   ]
  },
  {
   "cell_type": "code",
   "execution_count": 1240,
   "id": "3d5ddf42-35e6-463f-a463-f50798e72e9e",
   "metadata": {},
   "outputs": [],
   "source": [
    "train = pd.read_csv('train.csv')\n",
    "test = pd.read_csv('test.csv')\n",
    "# submission = pd.read_csv('sample_submission.csv')\n",
    "# train_v1 = train.copy()"
   ]
  },
  {
   "cell_type": "code",
   "execution_count": 1241,
   "id": "0cb91f9e-94da-4616-bcba-6a156bab83c2",
   "metadata": {},
   "outputs": [],
   "source": [
    "train_v1 = pd.concat([train, test], sort=False)"
   ]
  },
  {
   "cell_type": "code",
   "execution_count": 1242,
   "id": "21a6740e-539f-4a5f-af14-65bf78d7a9f3",
   "metadata": {},
   "outputs": [
    {
     "data": {
      "text/plain": [
       "(2919, 81)"
      ]
     },
     "execution_count": 1242,
     "metadata": {},
     "output_type": "execute_result"
    }
   ],
   "source": [
    "train_v1.shape"
   ]
  },
  {
   "cell_type": "code",
   "execution_count": 1243,
   "id": "0dd33d76-170f-4df1-86d0-f56e70dadfce",
   "metadata": {},
   "outputs": [],
   "source": [
    "train_v1['LotFrontage'] = train_v1['LotFrontage'].fillna(train_v1['LotFrontage'].median())"
   ]
  },
  {
   "cell_type": "code",
   "execution_count": 1244,
   "id": "912841aa-0b83-43d9-965f-2089ce7b8c51",
   "metadata": {},
   "outputs": [],
   "source": [
    "train_v1.drop(['Alley'], axis=1, inplace=True)"
   ]
  },
  {
   "cell_type": "code",
   "execution_count": 1245,
   "id": "32cf99d3-aed4-42aa-9a38-09867bf5d91a",
   "metadata": {},
   "outputs": [],
   "source": [
    "train_v1.drop(['MasVnrType'], axis=1, inplace=True)"
   ]
  },
  {
   "cell_type": "code",
   "execution_count": 1246,
   "id": "77d4510b-80f4-494b-a8ab-770b8d36752c",
   "metadata": {},
   "outputs": [],
   "source": [
    "train_v1.drop(['MasVnrArea'], axis=1, inplace=True)"
   ]
  },
  {
   "cell_type": "code",
   "execution_count": 1247,
   "id": "c0d242a7-6df7-45c6-ad71-c71bf211245a",
   "metadata": {},
   "outputs": [],
   "source": [
    "train_v1['BsmtQual'] = train_v1['BsmtQual'].fillna('Not applicable')\n",
    "train_v1['BsmtCond'] = train_v1['BsmtCond'].fillna('Not applicable')\n",
    "train_v1['BsmtExposure'] = train_v1['BsmtExposure'].fillna('Not applicable')\n",
    "train_v1['BsmtFinType1'] = train_v1['BsmtFinType1'].fillna('Not applicable')\n",
    "train_v1['BsmtFinType2'] = train_v1['BsmtFinType2'].fillna('Not applicable')"
   ]
  },
  {
   "cell_type": "code",
   "execution_count": 1248,
   "id": "4b8f7898-cf9d-4f6b-8c8b-078f9f865393",
   "metadata": {},
   "outputs": [],
   "source": [
    "train_v1['Electrical'] = train_v1['Electrical'].fillna(train_v1['Electrical'].mode()[0])"
   ]
  },
  {
   "cell_type": "code",
   "execution_count": 1249,
   "id": "e599a70e-d98d-4b29-bc7d-605d1fdfbf0d",
   "metadata": {},
   "outputs": [],
   "source": [
    "train_v1['FireplaceQu'] = train_v1['FireplaceQu'].fillna('Not applicable')"
   ]
  },
  {
   "cell_type": "code",
   "execution_count": 1250,
   "id": "78030308-7778-46c0-a59b-88b5c1f38d9c",
   "metadata": {},
   "outputs": [],
   "source": [
    "train_v1['GarageType'] = train_v1['GarageType'].fillna('Not applicable')\n",
    "train_v1['GarageYrBlt'] = train_v1['GarageYrBlt'].fillna(0)\n",
    "train_v1['GarageFinish'] = train_v1['GarageFinish'].fillna('Not applicable')\n",
    "train_v1['GarageQual'] = train_v1['GarageQual'].fillna('Not applicable')\n",
    "train_v1['GarageCond'] = train_v1['GarageCond'].fillna('Not applicable')"
   ]
  },
  {
   "cell_type": "code",
   "execution_count": 1251,
   "id": "2f4e0672-fb6b-46b4-a9d6-effc0c4ab093",
   "metadata": {},
   "outputs": [],
   "source": [
    "train_v1['PoolQC'] = train_v1['PoolQC'].fillna('Not applicable')"
   ]
  },
  {
   "cell_type": "code",
   "execution_count": 1252,
   "id": "2e7b7fee-1415-4ba7-a80e-49a1940d415a",
   "metadata": {},
   "outputs": [],
   "source": [
    "train_v1['Fence'] = train_v1['Fence'].fillna('Not applicable')"
   ]
  },
  {
   "cell_type": "code",
   "execution_count": 1253,
   "id": "a765b344-750f-4f5c-8660-8ff978f117f1",
   "metadata": {},
   "outputs": [],
   "source": [
    "train_v1['MiscFeature'] = train_v1['MiscFeature'].fillna('Not applicable')"
   ]
  },
  {
   "cell_type": "code",
   "execution_count": 1254,
   "id": "17242d36-ab8d-436f-9a64-2cc4a92a40db",
   "metadata": {},
   "outputs": [],
   "source": [
    "train_v1['MSZoning'] = train_v1['MSZoning'].fillna(0)"
   ]
  },
  {
   "cell_type": "code",
   "execution_count": 1255,
   "id": "4dbaa7ce-67d9-40d4-8117-c81dc9d99ebf",
   "metadata": {},
   "outputs": [],
   "source": [
    "train_v1['Utilities'] = train_v1['Utilities'].fillna(0)"
   ]
  },
  {
   "cell_type": "code",
   "execution_count": 1256,
   "id": "9e87e7c9-63df-40f6-ae21-680d6be114bc",
   "metadata": {},
   "outputs": [],
   "source": [
    "train_v1['Exterior1st'] = train_v1['Exterior1st'].fillna(0)"
   ]
  },
  {
   "cell_type": "code",
   "execution_count": 1257,
   "id": "18ec9a82-f18c-41d2-b3fa-95a731738302",
   "metadata": {},
   "outputs": [],
   "source": [
    "train_v1['Exterior2nd'] = train_v1['Exterior2nd'].fillna(0)"
   ]
  },
  {
   "cell_type": "code",
   "execution_count": 1258,
   "id": "dafeadbd-7c6d-4716-8a01-2be3e579bddd",
   "metadata": {},
   "outputs": [],
   "source": [
    "train_v1['BsmtFinSF1'] = train_v1['BsmtFinSF1'].fillna(0)"
   ]
  },
  {
   "cell_type": "code",
   "execution_count": 1259,
   "id": "95dcfab0-acdb-4213-8968-46ad41aca7a9",
   "metadata": {},
   "outputs": [],
   "source": [
    "train_v1['BsmtFinSF2'] = train_v1['BsmtFinSF2'].fillna(0)"
   ]
  },
  {
   "cell_type": "code",
   "execution_count": 1260,
   "id": "48a7a3f3-7336-494b-9056-b1f0aa8f3b8e",
   "metadata": {},
   "outputs": [],
   "source": [
    "train_v1['BsmtUnfSF'] = train_v1['BsmtUnfSF'].fillna(0)"
   ]
  },
  {
   "cell_type": "code",
   "execution_count": 1261,
   "id": "1c810706-25d9-45ea-a5c7-9c33fdfa6ed4",
   "metadata": {},
   "outputs": [],
   "source": [
    "train_v1['TotalBsmtSF'] = train_v1['TotalBsmtSF'].fillna(0)"
   ]
  },
  {
   "cell_type": "code",
   "execution_count": 1262,
   "id": "c7aacbad-122c-4985-857a-af1b24d80221",
   "metadata": {},
   "outputs": [],
   "source": [
    "train_v1['BsmtFullBath'] = train_v1['BsmtFullBath'].fillna(0)"
   ]
  },
  {
   "cell_type": "code",
   "execution_count": 1263,
   "id": "8ae8c8f8-0963-4b5f-9c45-fe644c81c0fc",
   "metadata": {},
   "outputs": [],
   "source": [
    "train_v1['BsmtHalfBath'] = train_v1['BsmtHalfBath'].fillna(0)"
   ]
  },
  {
   "cell_type": "code",
   "execution_count": 1264,
   "id": "78643788-1ea5-4060-9cc6-2e5112d4efc4",
   "metadata": {},
   "outputs": [],
   "source": [
    "train_v1['KitchenQual'] = train_v1['KitchenQual'].fillna(0)"
   ]
  },
  {
   "cell_type": "code",
   "execution_count": 1265,
   "id": "2687e696-54ac-4a4d-b41c-17887356c7fe",
   "metadata": {},
   "outputs": [],
   "source": [
    "train_v1['Functional'] = train_v1['Functional'].fillna(0)"
   ]
  },
  {
   "cell_type": "code",
   "execution_count": 1266,
   "id": "09a2c98e-ce60-4050-a0c7-da7153d5dda0",
   "metadata": {},
   "outputs": [],
   "source": [
    "train_v1['SaleType'] = train_v1['SaleType'].fillna(0)"
   ]
  },
  {
   "cell_type": "code",
   "execution_count": 1267,
   "id": "f1480d61-2ee8-450a-b00d-238c7e064b5b",
   "metadata": {},
   "outputs": [],
   "source": [
    "train_v1['GarageArea'] = train_v1['GarageArea'].fillna(0)"
   ]
  },
  {
   "cell_type": "code",
   "execution_count": 1268,
   "id": "2c24c79d-6d35-489b-9ecc-b96accb14f38",
   "metadata": {},
   "outputs": [],
   "source": [
    "train_v1['GarageCars'] = train_v1['GarageCars'].fillna(0)"
   ]
  },
  {
   "cell_type": "code",
   "execution_count": 1269,
   "id": "20ed3f25-a262-4eac-a3fc-50559eb0c362",
   "metadata": {},
   "outputs": [],
   "source": [
    "train_encoded = pd.get_dummies(train_v1, columns=['MSSubClass', 'MSZoning', 'Street', 'LotShape', 'LandContour', 'Utilities', 'LotConfig', 'LandSlope','Neighborhood', 'Condition1', 'Condition2', 'BldgType', 'HouseStyle', 'RoofStyle', 'RoofMatl', 'Exterior1st', 'Exterior2nd', 'ExterQual', 'ExterCond', 'Foundation', 'BsmtQual', 'BsmtCond', 'BsmtExposure', 'BsmtFinType1', 'BsmtFinType2', 'Heating', 'HeatingQC', 'CentralAir','Electrical', 'KitchenQual', 'Functional', 'FireplaceQu', 'GarageType', 'GarageFinish', 'GarageQual', 'GarageCond', 'PavedDrive', 'PoolQC', 'Fence', 'MiscFeature', 'SaleType', 'SaleCondition'], dtype=int)"
   ]
  },
  {
   "cell_type": "code",
   "execution_count": 1270,
   "id": "3e2825ce-6799-427e-93e2-8882fb16a243",
   "metadata": {},
   "outputs": [
    {
     "data": {
      "text/plain": [
       "Series([], dtype: object)"
      ]
     },
     "execution_count": 1270,
     "metadata": {},
     "output_type": "execute_result"
    }
   ],
   "source": [
    "train_encoded.dtypes[~train_encoded.dtypes.isin(['int64', 'int32', 'float64'])]"
   ]
  },
  {
   "cell_type": "code",
   "execution_count": 1271,
   "id": "32c8fb24-b0d5-47f4-8d43-39ab83f340b4",
   "metadata": {},
   "outputs": [],
   "source": [
    "train_processed = train_encoded[train_encoded['SalePrice'].notna()]\n",
    "test_processed = train_encoded[train_encoded['SalePrice'].isna()]"
   ]
  },
  {
   "cell_type": "code",
   "execution_count": 1272,
   "id": "de682c14-8a5a-41aa-86c6-b7192a4cf5d2",
   "metadata": {},
   "outputs": [
    {
     "name": "stdout",
     "output_type": "stream",
     "text": [
      "(1460, 318)\n",
      "(1459, 318)\n"
     ]
    }
   ],
   "source": [
    "print(train_processed.shape)\n",
    "print(test_processed.shape)"
   ]
  },
  {
   "cell_type": "code",
   "execution_count": 1273,
   "id": "ebf9063a-b2fb-4d51-ab43-eebf35acd2f9",
   "metadata": {},
   "outputs": [
    {
     "name": "stderr",
     "output_type": "stream",
     "text": [
      "C:\\Users\\Vishnu Kumar\\AppData\\Local\\Temp\\ipykernel_2108\\2249291267.py:2: SettingWithCopyWarning: \n",
      "A value is trying to be set on a copy of a slice from a DataFrame\n",
      "\n",
      "See the caveats in the documentation: https://pandas.pydata.org/pandas-docs/stable/user_guide/indexing.html#returning-a-view-versus-a-copy\n",
      "  train_processed.drop(['SalePrice','Id'], axis=1, inplace=True)\n"
     ]
    }
   ],
   "source": [
    "Y_train = train_processed['SalePrice']\n",
    "train_processed.drop(['SalePrice','Id'], axis=1, inplace=True)\n",
    "X_train = train_processed"
   ]
  },
  {
   "cell_type": "code",
   "execution_count": 1274,
   "id": "f20dd781-cf79-4f24-80ee-13fba920d5fd",
   "metadata": {},
   "outputs": [
    {
     "name": "stderr",
     "output_type": "stream",
     "text": [
      "C:\\Users\\Vishnu Kumar\\AppData\\Local\\Temp\\ipykernel_2108\\3539544712.py:3: SettingWithCopyWarning: \n",
      "A value is trying to be set on a copy of a slice from a DataFrame\n",
      "\n",
      "See the caveats in the documentation: https://pandas.pydata.org/pandas-docs/stable/user_guide/indexing.html#returning-a-view-versus-a-copy\n",
      "  X_test.drop(['SalePrice'], axis=1, inplace=True)\n"
     ]
    }
   ],
   "source": [
    "# test_processed.drop(['SalePrice'], axis=1, inplace=True)\n",
    "X_test = test_processed\n",
    "X_test.drop(['SalePrice'], axis=1, inplace=True)"
   ]
  },
  {
   "cell_type": "code",
   "execution_count": 1184,
   "id": "62a9fee3-22ac-48d8-852f-95f102011691",
   "metadata": {},
   "outputs": [],
   "source": [
    "X_train = sm.add_constant(X_train)"
   ]
  },
  {
   "cell_type": "code",
   "execution_count": 1185,
   "id": "9ce2990c-1f7d-4927-a3bd-ea46a3f418c9",
   "metadata": {},
   "outputs": [],
   "source": [
    "model = sm.OLS(Y_train, X_train).fit()\n",
    "\n",
    "# Get p-values for each feature\n",
    "p_values = model.pvalues"
   ]
  },
  {
   "cell_type": "code",
   "execution_count": 1187,
   "id": "c957c31c-44dd-4481-b577-4b068d816372",
   "metadata": {},
   "outputs": [
    {
     "name": "stdout",
     "output_type": "stream",
     "text": [
      "Significant features based on p-values:\n",
      "Index(['LotArea', 'OverallQual', 'OverallCond', 'YearBuilt', 'BsmtFinSF1',\n",
      "       'TotalBsmtSF', '1stFlrSF', '2ndFlrSF', 'LowQualFinSF', 'GrLivArea',\n",
      "       'BedroomAbvGr', 'Fireplaces', 'GarageArea', 'WoodDeckSF', 'ScreenPorch',\n",
      "       'PoolArea', 'MoSold', 'MSSubClass_150', 'Neighborhood_Crawfor',\n",
      "       'Neighborhood_Edwards', 'Neighborhood_Mitchel', 'Neighborhood_NAmes',\n",
      "       'Neighborhood_NWAmes', 'Neighborhood_NoRidge', 'Neighborhood_NridgHt',\n",
      "       'Neighborhood_OldTown', 'Neighborhood_StoneBr', 'Condition2_PosA',\n",
      "       'Condition2_PosN', 'RoofStyle_Shed', 'RoofMatl_ClyTile',\n",
      "       'RoofMatl_CompShg', 'RoofMatl_Membran', 'RoofMatl_Metal',\n",
      "       'RoofMatl_Tar&Grv', 'RoofMatl_WdShngl', 'GarageQual_Ex',\n",
      "       'GarageCond_Ex', 'PoolQC_Fa', 'PoolQC_Gd', 'PoolQC_Not applicable'],\n",
      "      dtype='object')\n",
      "41\n"
     ]
    }
   ],
   "source": [
    "alpha = 0.05\n",
    "\n",
    "# Select features with p-values less than alpha\n",
    "significant_features = p_values[p_values < alpha].index\n",
    "\n",
    "# Drop the constant term if present\n",
    "if 'const' in significant_features:\n",
    "    significant_features = significant_features.drop('const')\n",
    "\n",
    "print(\"Significant features based on p-values:\")\n",
    "print(significant_features)\n",
    "print(significant_features.size)"
   ]
  },
  {
   "cell_type": "code",
   "execution_count": 1275,
   "id": "0c291f48-bb6c-4420-8f18-d273e4a3c6e1",
   "metadata": {},
   "outputs": [],
   "source": [
    "X_train, X_valid, Y_train, Y_valid = train_test_split(X_train[selected_features], Y_train, test_size=0.2, random_state=42)"
   ]
  },
  {
   "cell_type": "code",
   "execution_count": 1279,
   "id": "65111896-ba74-4d94-ac9f-e300d3d1cc50",
   "metadata": {},
   "outputs": [],
   "source": [
    "def train_and_evaluate_model(model, X_train, Y_train, X_valid, Y_valid):\n",
    "    # Train the model\n",
    "    model.fit(X_train[selected_features], Y_train)\n",
    "    \n",
    "    # Predict on training and validation data\n",
    "    Y_train_pred = model.predict(X_train[selected_features])\n",
    "    Y_valid_pred = model.predict(X_valid[selected_features])\n",
    "    \n",
    "    # Evaluate the model\n",
    "    train_rmse = np.sqrt(mean_squared_error(Y_train, Y_train_pred))\n",
    "    valid_rmse = np.sqrt(mean_squared_error(Y_valid, Y_valid_pred))\n",
    "    \n",
    "    train_mae = mean_absolute_error(Y_train, Y_train_pred)\n",
    "    valid_mae = mean_absolute_error(Y_valid, Y_valid_pred)\n",
    "    \n",
    "    print(f\"Training RMSE: {train_rmse:.2f}, Validation RMSE: {valid_rmse:.2f}\")\n",
    "    print(f\"Training MAE: {train_mae:.2f}, Validation MAE: {valid_mae:.2f}\")\n",
    "\n",
    "    \n",
    "    return model"
   ]
  },
  {
   "cell_type": "code",
   "execution_count": 1280,
   "id": "3e421619-2690-4728-93cb-48fc9ae54897",
   "metadata": {},
   "outputs": [
    {
     "name": "stdout",
     "output_type": "stream",
     "text": [
      "\n",
      "Training and evaluating LinearRegression...\n",
      "Training RMSE: 27258.73, Validation RMSE: 30829.76\n",
      "Training MAE: 16745.96, Validation MAE: 19179.70\n",
      "(1459, 317)\n",
      "\n",
      "Training and evaluating DecisionTreeRegressor...\n",
      "Training RMSE: 0.00, Validation RMSE: 37765.76\n",
      "Training MAE: 0.00, Validation MAE: 25568.39\n",
      "(1459, 317)\n",
      "\n",
      "Training and evaluating RandomForestRegressor...\n",
      "Training RMSE: 10843.97, Validation RMSE: 28179.08\n",
      "Training MAE: 6501.01, Validation MAE: 17577.88\n",
      "(1459, 317)\n",
      "\n",
      "Training and evaluating GradientBoostingRegressor...\n",
      "Training RMSE: 13309.82, Validation RMSE: 26720.41\n",
      "Training MAE: 9830.77, Validation MAE: 17099.85\n",
      "(1459, 317)\n",
      "\n",
      "Training and evaluating SVR...\n",
      "Training RMSE: 78946.64, Validation RMSE: 88652.87\n",
      "Training MAE: 54535.67, Validation MAE: 59556.56\n",
      "(1459, 317)\n",
      "\n",
      "Training and evaluating Ridge...\n",
      "Training RMSE: 27381.49, Validation RMSE: 30948.60\n",
      "Training MAE: 16803.73, Validation MAE: 19110.74\n",
      "(1459, 317)\n",
      "\n",
      "Training and evaluating Lasso...\n",
      "Training RMSE: 27261.74, Validation RMSE: 30840.65\n",
      "Training MAE: 16741.90, Validation MAE: 19189.57\n",
      "(1459, 317)\n",
      "\n",
      "Training and evaluating ElasticNet...\n",
      "Training RMSE: 34104.66, Validation RMSE: 36353.80\n",
      "Training MAE: 19586.83, Validation MAE: 21019.45\n",
      "(1459, 317)\n",
      "\n",
      "Training and evaluating KNeighborsRegressor...\n"
     ]
    },
    {
     "name": "stderr",
     "output_type": "stream",
     "text": [
      "C:\\ProgramData\\anaconda3\\Lib\\site-packages\\sklearn\\linear_model\\_coordinate_descent.py:631: ConvergenceWarning: Objective did not converge. You might want to increase the number of iterations, check the scale of the features or consider increasing regularisation. Duality gap: 4.347e+11, tolerance: 6.967e+08\n",
      "  model = cd_fast.enet_coordinate_descent(\n",
      "C:\\ProgramData\\anaconda3\\Lib\\site-packages\\sklearn\\linear_model\\_coordinate_descent.py:631: ConvergenceWarning: Objective did not converge. You might want to increase the number of iterations, check the scale of the features or consider increasing regularisation. Duality gap: 7.316e+11, tolerance: 6.967e+08\n",
      "  model = cd_fast.enet_coordinate_descent(\n"
     ]
    },
    {
     "name": "stdout",
     "output_type": "stream",
     "text": [
      "Training RMSE: 37590.02, Validation RMSE: 47886.57\n",
      "Training MAE: 24031.55, Validation MAE: 28763.44\n",
      "(1459, 317)\n",
      "\n",
      "Training and evaluating XGBRegressor...\n",
      "Training RMSE: 1268.71, Validation RMSE: 27105.12\n",
      "Training MAE: 883.96, Validation MAE: 17633.49\n",
      "(1459, 317)\n",
      "\n",
      "Training and evaluating LGBMRegressor...\n",
      "[LightGBM] [Warning] Found whitespace in feature_names, replace with underlines\n",
      "[LightGBM] [Info] Auto-choosing col-wise multi-threading, the overhead of testing was 0.000965 seconds.\n",
      "You can set `force_col_wise=true` to remove the overhead.\n",
      "[LightGBM] [Info] Total Bins 2802\n",
      "[LightGBM] [Info] Number of data points in the train set: 1168, number of used features: 75\n",
      "[LightGBM] [Info] Start training from score 181441.541952\n",
      "Training RMSE: 11391.57, Validation RMSE: 28365.91\n",
      "Training MAE: 5517.05, Validation MAE: 16675.37\n",
      "(1459, 317)\n",
      "\n",
      "Training and evaluating CatBoostRegressor...\n",
      "Training RMSE: 5438.10, Validation RMSE: 24785.87\n",
      "Training MAE: 4173.50, Validation MAE: 15408.44\n",
      "(1459, 317)\n"
     ]
    }
   ],
   "source": [
    "# Initialize models\n",
    "linear_reg = LinearRegression()\n",
    "decision_tree_reg = DecisionTreeRegressor(random_state=42)\n",
    "random_forest_reg = RandomForestRegressor(random_state=42)\n",
    "gradient_boosting_reg = GradientBoostingRegressor(random_state=42)\n",
    "svr = SVR()\n",
    "ridge = Ridge()\n",
    "lasso = Lasso()\n",
    "elastic_net = ElasticNet()\n",
    "knn = KNeighborsRegressor()\n",
    "xgb = XGBRegressor(random_state=42)\n",
    "lgbm = LGBMRegressor(random_state=42)\n",
    "catboost = CatBoostRegressor(random_state=42, verbose=0)\n",
    "# List of models\n",
    "models = [linear_reg, decision_tree_reg, random_forest_reg, gradient_boosting_reg, svr, ridge, lasso, elastic_net, knn, xgb, lgbm, catboost]\n",
    "\n",
    "# Train and evaluate each model\n",
    "i=0\n",
    "for model in models:\n",
    "    print(f\"\\nTraining and evaluating {model.__class__.__name__}...\")\n",
    "    trained_model = train_and_evaluate_model(model, X_train, Y_train, X_valid, Y_valid)\n",
    "    \n",
    "    predict_input = X_test.copy()\n",
    "    print(predict_input.shape)\n",
    "    id_column = predict_input['Id'].copy()  # Ensure column name matches exactly\n",
    "    predict_input.drop(columns=['Id'], inplace=True)\n",
    "    final_predictions = model.predict(predict_input[selected_features])\n",
    "\n",
    "    # Create submission file\n",
    "    submission_df = pd.DataFrame({'Id': id_column, 'SalePrice': final_predictions})\n",
    "    \n",
    "    submission_df.to_csv(f'submission{i}.csv', index=False)\n",
    "    \n",
    "    i += 1"
   ]
  },
  {
   "cell_type": "code",
   "execution_count": 1276,
   "id": "16d431f4-0387-429b-83b8-941b5f8bd6ba",
   "metadata": {},
   "outputs": [
    {
     "name": "stdout",
     "output_type": "stream",
     "text": [
      "Selected Features:  Index(['LotFrontage', 'LotArea', 'OverallQual', 'OverallCond', 'YearBuilt',\n",
      "       'YearRemodAdd', 'BsmtFinSF1', 'BsmtFinSF2', 'BsmtUnfSF', 'TotalBsmtSF',\n",
      "       '1stFlrSF', '2ndFlrSF', 'LowQualFinSF', 'GrLivArea', 'BsmtFullBath',\n",
      "       'BsmtHalfBath', 'FullBath', 'HalfBath', 'BedroomAbvGr', 'KitchenAbvGr',\n",
      "       'TotRmsAbvGrd', 'Fireplaces', 'GarageYrBlt', 'GarageCars', 'GarageArea',\n",
      "       'WoodDeckSF', 'OpenPorchSF', 'EnclosedPorch', 'ScreenPorch', 'MiscVal',\n",
      "       'MoSold', 'YrSold', 'MSZoning_C (all)', 'MSZoning_FV', 'MSZoning_RM',\n",
      "       'LotShape_IR1', 'LandContour_Bnk', 'LandContour_HLS', 'LandContour_Lvl',\n",
      "       'Neighborhood_Crawfor', 'Neighborhood_Edwards', 'Neighborhood_NoRidge',\n",
      "       'Neighborhood_StoneBr', 'Condition1_Norm', 'Condition1_PosN',\n",
      "       'Condition2_PosN', 'Exterior1st_BrkFace', 'ExterQual_Gd',\n",
      "       'ExterQual_TA', 'BsmtQual_Ex', 'BsmtExposure_Av', 'BsmtExposure_Gd',\n",
      "       'BsmtFinType1_GLQ', 'BsmtFinType1_Rec', 'BsmtFinType1_Unf',\n",
      "       'Heating_GasA', 'HeatingQC_Ex', 'CentralAir_Y', 'KitchenQual_Ex',\n",
      "       'KitchenQual_Gd', 'KitchenQual_TA', 'Functional_Typ', 'FireplaceQu_Gd',\n",
      "       'FireplaceQu_Not applicable', 'FireplaceQu_TA', 'GarageType_Attchd',\n",
      "       'GarageFinish_Fin', 'GarageFinish_Unf', 'GarageQual_Not applicable',\n",
      "       'GarageQual_TA', 'GarageCond_Fa', 'PoolQC_Not applicable',\n",
      "       'Fence_MnPrv', 'MiscFeature_Gar2', 'MiscFeature_Shed',\n",
      "       'MiscFeature_TenC', 'SaleType_COD', 'SaleType_CWD', 'SaleType_Con',\n",
      "       'SaleType_ConLD', 'SaleType_ConLI', 'SaleType_ConLw', 'SaleType_New',\n",
      "       'SaleType_Oth', 'SaleType_WD', 'SaleCondition_Abnorml',\n",
      "       'SaleCondition_AdjLand', 'SaleCondition_Alloca',\n",
      "       'SaleCondition_Normal'],\n",
      "      dtype='object')\n"
     ]
    },
    {
     "ename": "AttributeError",
     "evalue": "'RFECV' object has no attribute 'grid_scores_'",
     "output_type": "error",
     "traceback": [
      "\u001b[1;31m---------------------------------------------------------------------------\u001b[0m",
      "\u001b[1;31mAttributeError\u001b[0m                            Traceback (most recent call last)",
      "Cell \u001b[1;32mIn[1276], line 22\u001b[0m\n\u001b[0;32m     20\u001b[0m plt\u001b[38;5;241m.\u001b[39mxlabel(\u001b[38;5;124m\"\u001b[39m\u001b[38;5;124mNumber of features selected\u001b[39m\u001b[38;5;124m\"\u001b[39m)\n\u001b[0;32m     21\u001b[0m plt\u001b[38;5;241m.\u001b[39mylabel(\u001b[38;5;124m\"\u001b[39m\u001b[38;5;124mCross-validation score (neg_mean_squared_error)\u001b[39m\u001b[38;5;124m\"\u001b[39m)\n\u001b[1;32m---> 22\u001b[0m plt\u001b[38;5;241m.\u001b[39mplot(\u001b[38;5;28mrange\u001b[39m(\u001b[38;5;241m1\u001b[39m, \u001b[38;5;28mlen\u001b[39m(rfecv\u001b[38;5;241m.\u001b[39mgrid_scores_) \u001b[38;5;241m+\u001b[39m \u001b[38;5;241m1\u001b[39m), rfecv\u001b[38;5;241m.\u001b[39mgrid_scores_)\n\u001b[0;32m     23\u001b[0m plt\u001b[38;5;241m.\u001b[39mshow()\n\u001b[0;32m     25\u001b[0m \u001b[38;5;66;03m# Use the selected features to create a new DataFrame\u001b[39;00m\n",
      "\u001b[1;31mAttributeError\u001b[0m: 'RFECV' object has no attribute 'grid_scores_'"
     ]
    },
    {
     "data": {
      "image/png": "[encoded data removed]",
      "text/plain": [
       "<Figure size 1000x600 with 1 Axes>"
      ]
     },
     "metadata": {},
     "output_type": "display_data"
    }
   ],
   "source": [
    "# Initialize the CatBoost model with fewer iterations to speed up RFECV\n",
    "catboost_model = CatBoostRegressor(iterations=100, depth=6, learning_rate=0.1, random_seed=42, silent=True)\n",
    "\n",
    "# Initialize RFECV with CatBoost, using fewer folds and a larger step size\n",
    "rfecv = RFECV(estimator=catboost_model, step=5, cv=3, scoring='neg_mean_squared_error')\n",
    "\n",
    "# Fit RFECV using a sample of the data to speed up the process\n",
    "sample_X_train = X_train.sample(frac=0.5, random_state=42)\n",
    "sample_y_train = Y_train.sample(frac=0.5, random_state=42)\n",
    "rfecv.fit(sample_X_train, sample_y_train)\n",
    "\n",
    "# Get the selected features\n",
    "selected_features = X_train.columns[rfecv.support_]\n",
    "\n",
    "# Print the selected features\n",
    "print(\"Selected Features: \", selected_features)\n",
    "\n",
    "# Plot the number of features VS. cross-validation scores\n",
    "plt.figure(figsize=(10, 6))\n",
    "plt.xlabel(\"Number of features selected\")\n",
    "plt.ylabel(\"Cross-validation score (neg_mean_squared_error)\")\n",
    "plt.plot(range(1, len(rfecv.grid_scores_) + 1), rfecv.grid_scores_)\n",
    "plt.show()\n",
    "\n",
    "# Use the selected features to create a new DataFrame\n",
    "X_train_selected = X_train[selected_features]\n",
    "X_valid_selected = X_valid[selected_features]"
   ]
  },
  {
   "cell_type": "code",
   "execution_count": 1235,
   "id": "4630b55c-a5ce-4b36-aa01-4311f315582a",
   "metadata": {},
   "outputs": [
    {
     "data": {
      "text/plain": [
       "(124,)"
      ]
     },
     "execution_count": 1235,
     "metadata": {},
     "output_type": "execute_result"
    }
   ],
   "source": [
    "selected_features.shape"
   ]
  }
 ],
 "metadata": {
  "kernelspec": {
   "display_name": "Python 3 (ipykernel)",
   "language": "python",
   "name": "python3"
  },
  "language_info": {
   "codemirror_mode": {
    "name": "ipython",
    "version": 3
   },
   "file_extension": ".py",
   "mimetype": "text/x-python",
   "name": "python",
   "nbconvert_exporter": "python",
   "pygments_lexer": "ipython3",
   "version": "3.11.7"
  }
 },
 "nbformat": 4,
 "nbformat_minor": 5
}
